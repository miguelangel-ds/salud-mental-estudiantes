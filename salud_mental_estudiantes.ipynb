{
 "cells": [
  {
   "cell_type": "markdown",
   "id": "d15e0c3b",
   "metadata": {},
   "source": [
    "# Introducción\n",
    "\n",
    "Este análisis explora cómo factores como el sueño, el ejercicio, el estrés y otros hábitos afectan la salud mental y el rendimiento académico (GPA) de estudiantes universitarios.\n",
    "\n",
    "Dataset simulado con características realistas: valores nulos, datos inconsistentes, outliers y errores típicos de entrada."
   ]
  },
  {
   "cell_type": "code",
   "execution_count": null,
   "id": "e3f0a760",
   "metadata": {},
   "outputs": [],
   "source": [
    "import pandas as pd\n",
    "import matplotlib.pyplot as plt\n",
    "import seaborn as sns\n",
    "\n",
    "df = pd.read_csv(\"mental_health_students.csv\")"
   ]
  },
  {
   "cell_type": "markdown",
   "id": "45920549",
   "metadata": {},
   "source": [
    "# Vista general del dataset"
   ]
  },
  {
   "cell_type": "code",
   "execution_count": null,
   "id": "b0c14bf3",
   "metadata": {},
   "outputs": [],
   "source": [
    "df.head()\n",
    "df.info()\n",
    "df.describe()"
   ]
  },
  {
   "cell_type": "markdown",
   "id": "9de114a9",
   "metadata": {},
   "source": [
    "# Limpieza de datos"
   ]
  },
  {
   "cell_type": "code",
   "execution_count": null,
   "id": "418c04a0",
   "metadata": {},
   "outputs": [],
   "source": [
    "df['gender'] = df['gender'].replace({'M': 'Male', 'F': 'Female', 'f': 'Female', 'male': 'Male', 'female': 'Female'})\n",
    "df['gender'] = df['gender'].fillna('Unknown')\n",
    "df['seeks_help'] = df['seeks_help'].replace({'yes' : 'Yes', 'no' : 'No'})\n",
    "df['seeks_help'] = df['seeks_help'].fillna('no answer')\n",
    "df = df.drop_duplicates()\n",
    "\n",
    "df['hours_of_sleep'] = df['hours_of_sleep'].fillna(df['hours_of_sleep'].median())\n",
    "df['exercise_freq'] = df['exercise_freq'].fillna(df['exercise_freq'].mode()[0])\n",
    "df['semester_gpa'] = df['semester_gpa'].fillna(df['semester_gpa'].median())\n",
    "df['stress_level'] = df['stress_level'].fillna('unknown')"
   ]
  },
  {
   "cell_type": "markdown",
   "id": "6d9a16fb",
   "metadata": {},
   "source": [
    "# Análisis Exploratorio de Datos (EDA)"
   ]
  },
  {
   "cell_type": "code",
   "execution_count": null,
   "id": "88f6b97d",
   "metadata": {},
   "outputs": [],
   "source": [
    "sns.histplot(df['semester_gpa'], kde=True)\n",
    "plt.title(\"Distribución del GPA\")\n",
    "plt.show()"
   ]
  },
  {
   "cell_type": "code",
   "execution_count": null,
   "id": "5ac5618c",
   "metadata": {},
   "outputs": [],
   "source": [
    "sns.histplot(df['hours_of_sleep'], kde=True)\n",
    "plt.title(\"Distribución de horas de sueño\")\n",
    "plt.show()"
   ]
  },
  {
   "cell_type": "code",
   "execution_count": null,
   "id": "d32822ae",
   "metadata": {},
   "outputs": [],
   "source": [
    "sns.countplot(data=df, x='gender')\n",
    "plt.title(\"Género de los estudiantes\")\n",
    "plt.show()"
   ]
  },
  {
   "cell_type": "code",
   "execution_count": null,
   "id": "308c0771",
   "metadata": {},
   "outputs": [],
   "source": [
    "sns.boxplot(data=df, x='stress_level', y='semester_gpa')\n",
    "plt.title(\"GPA por nivel de estrés\")\n",
    "plt.show()"
   ]
  },
  {
   "cell_type": "code",
   "execution_count": null,
   "id": "c252dcf4",
   "metadata": {},
   "outputs": [],
   "source": [
    "sns.scatterplot(data=df, x='hours_of_sleep', y='semester_gpa')\n",
    "plt.title(\"Horas de sueño vs GPA\")\n",
    "plt.show()"
   ]
  },
  {
   "cell_type": "code",
   "execution_count": null,
   "id": "60f2c54e",
   "metadata": {},
   "outputs": [],
   "source": [
    "sns.boxplot(data=df, x='exercise_freq', y='mental_health_rating')\n",
    "plt.title(\"Ejercicio vs salud mental\")\n",
    "plt.show()"
   ]
  },
  {
   "cell_type": "markdown",
   "id": "98a69b9b",
   "metadata": {},
   "source": [
    "# Conclusiones\n",
    "\n",
    "- Existen outliers en horas de sueño y GPA que podrían afectar el análisis si no se manejan.\n",
    "- Se observa que los niveles de estrés tienen impacto en el GPA.\n",
    "- El ejercicio frecuente parece estar relacionado con una mejor percepción de la salud mental.\n",
    "\n",
    "\n",
    "# Visualización avanzada y estrategias de imputación\n",
    "\n",
    "En este bloque analizamos variables relacionadas con salud mental y rendimiento académico en estudiantes universitarios, aplicando estrategias avanzadas de visualización y técnicas adecuadas de imputación."
   ]
  },
  {
   "cell_type": "code",
   "execution_count": null,
   "id": "e2fe3f39",
   "metadata": {},
   "outputs": [],
   "source": [
    "# Visualización con hue y palette\n",
    "sns.boxplot(data=df, x='stress_level', y='semester_gpa', hue='gender', palette='Set2')\n",
    "plt.title(\"GPA por nivel de estrés y género\")\n",
    "plt.show()"
   ]
  },
  {
   "cell_type": "code",
   "execution_count": null,
   "id": "63d1a066",
   "metadata": {},
   "outputs": [],
   "source": [
    "sns.countplot(data=df, x='gender', hue='gender', palette='Set2', legend=False)\n",
    "plt.title(\"Distribución de género\")\n",
    "plt.show()"
   ]
  },
  {
   "cell_type": "code",
   "execution_count": null,
   "id": "f1619aa4",
   "metadata": {},
   "outputs": [],
   "source": [
    "# Subplots comparativos\n",
    "fig, axs = plt.subplots(1, 2, figsize=(12, 5))\n",
    "sns.histplot(data=df, x='semester_gpa', kde=True, ax=axs[0])\n",
    "axs[0].set_title(\"Distribución del GPA\")\n",
    "\n",
    "sns.histplot(data=df, x='hours_of_sleep', kde=True, ax=axs[1])\n",
    "axs[1].set_title(\"Distribución de horas de sueño\")\n",
    "\n",
    "plt.tight_layout()\n",
    "plt.show()"
   ]
  },
  {
   "cell_type": "markdown",
   "id": "95583864",
   "metadata": {},
   "source": [
    "## Estrategias de Imputación\n",
    "\n",
    "- `hours_of_sleep`: Imputar con **mediana** (hay outliers).\n",
    "- `exercise_freq`: Imputar con **moda** (discreta con valores comunes).\n",
    "- `stress_level`: Imputar con **moda** (ordinal).\n",
    "- `semester_gpa`: Imputar con **mediana** (hay extremos).\n",
    "- `gender`: Usar categoría especial `'Unknown'` por falta de moda clara.\n",
    "\n",
    "## Conclusiones\n",
    "\n",
    "- Usar `hue` y `palette` permite enriquecer visualmente los análisis comparativos.\n",
    "- Los `subplots` ayudan a ver múltiples variables en conjunto.\n",
    "- Elegir bien entre media, mediana y moda evita sesgos al imputar.\n",
    "\n",
    "# Análisis por Grupo y Visualización Comparativa\n",
    "\n",
    "En este bloque analizamos cómo cambia el rendimiento académico (GPA) de los estudiantes según factores como género, nivel de estrés y búsqueda de ayuda psicológica. Utilizamos `groupby()` en combinación con `barplot` para visualizar las diferencias entre subgrupos clave.\n",
    "\n",
    "\n",
    "\n",
    "## GPA promedio por género"
   ]
  },
  {
   "cell_type": "code",
   "execution_count": null,
   "id": "4541d9ac",
   "metadata": {},
   "outputs": [],
   "source": [
    "genero_gpa = df.groupby('gender')['semester_gpa'].mean().reset_index()\n",
    "sns.barplot(data=genero_gpa, x='gender', y='semester_gpa')\n",
    "plt.title(\"Promedio de GPA por género\")\n",
    "plt.xlabel(\"Género\")\n",
    "plt.ylabel(\"GPA\")\n",
    "plt.show()"
   ]
  },
  {
   "cell_type": "code",
   "execution_count": null,
   "id": "fc2e5c23",
   "metadata": {},
   "outputs": [],
   "source": [
    "stress_gpa = df.groupby('stress_level')['semester_gpa'].mean().reset_index()\n",
    "order = ['low', 'medium', 'high', 'unknown']\n",
    "sns.barplot(data=stress_gpa, x='stress_level', y='semester_gpa', palette='Set2', order=order)\n",
    "plt.title(\"Promedio de GPA por nivel de estrés\")\n",
    "plt.xlabel(\"Nivel de estrés\")\n",
    "plt.ylabel(\"GPA\")\n",
    "plt.show()"
   ]
  },
  {
   "cell_type": "code",
   "execution_count": null,
   "id": "1fc5e594",
   "metadata": {},
   "outputs": [],
   "source": [
    "gpa_cross = df.groupby(['stress_level', 'seeks_help'])['semester_gpa'].mean().reset_index()\n",
    "order = ['low', 'medium', 'high', 'unknown']\n",
    "sns.barplot(data=gpa_cross, x='stress_level', y='semester_gpa', hue='seeks_help', palette='Set2', order=order)\n",
    "plt.title(\"GPA por nivel de estrés y si busca ayuda\")\n",
    "plt.xlabel(\"Nivel de estrés\")\n",
    "plt.ylabel(\"Promedio GPA\")\n",
    "plt.legend(title=\"¿Busca ayuda?\")\n",
    "plt.tight_layout()\n",
    "plt.show()"
   ]
  },
  {
   "cell_type": "markdown",
   "id": "22a90ba5",
   "metadata": {},
   "source": [
    "# Visualización de Combinaciones Cruzadas con Heatmaps\n",
    "\n",
    "En este bloque exploramos dos formas de analizar combinaciones entre variables categóricas usando `crosstab()` y `pivot_table()` para generar heatmaps.\n",
    "\n",
    "---\n",
    "\n",
    "## Heatmap 1 – Frecuencia de combinaciones (`crosstab`)\n",
    "\n",
    "Visualizamos cuántos estudiantes hay por combinación de nivel de estrés y si buscan ayuda."
   ]
  },
  {
   "cell_type": "code",
   "execution_count": null,
   "id": "1eb548da",
   "metadata": {},
   "outputs": [],
   "source": [
    "# Tabla cruzada con conteo de frecuencia\n",
    "tabla_frecuencia = pd.crosstab(df['stress_level'], df['seeks_help'])\n",
    "\n",
    "# Heatmap de frecuencia\n",
    "sns.heatmap(tabla_frecuencia, annot=True, cmap=\"PuBu\", fmt='d')\n",
    "plt.title(\"Frecuencia por nivel de estrés y búsqueda de ayuda\")\n",
    "plt.xlabel(\"¿Busca ayuda?\")\n",
    "plt.ylabel(\"Nivel de estrés\")\n",
    "plt.show()"
   ]
  },
  {
   "cell_type": "markdown",
   "id": "24de76bf",
   "metadata": {},
   "source": [
    "## Heatmap 2 – Promedio de GPA por combinación (`pivot_table`)"
   ]
  },
  {
   "cell_type": "code",
   "execution_count": null,
   "id": "d9a98c33",
   "metadata": {},
   "outputs": [],
   "source": [
    "# Tabla dinámica con promedios de GPA\n",
    "tabla_promedios = pd.pivot_table(df, \n",
    "                                  index='stress_level', \n",
    "                                  columns='seeks_help', \n",
    "                                  values='semester_gpa', \n",
    "                                  aggfunc='mean')\n",
    "\n",
    "# Heatmap de promedio de GPA\n",
    "sns.heatmap(tabla_promedios, annot=True, cmap=\"PuBu\", fmt=\".2f\")\n",
    "plt.title(\"Promedio de GPA por nivel de estrés y búsqueda de ayuda\")\n",
    "plt.xlabel(\"¿Busca ayuda?\")\n",
    "plt.ylabel(\"Nivel de estrés\")\n",
    "plt.show()"
   ]
  },
  {
   "cell_type": "markdown",
   "id": "ca3b0dad",
   "metadata": {},
   "source": [
    "# Conclusiones e Insights del Análisis por Grupo\n",
    "\n",
    "## 1. ¿Quiénes tienen mejor GPA?\n",
    "\n",
    "- Los estudiantes con **bajo nivel de estrés** presentan, en promedio, **mejor GPA**.\n",
    "- Sin embargo, dentro del grupo con **alto estrés**, aquellos que **no buscan ayuda** muestran un GPA ligeramente superior que quienes sí lo hacen.\n",
    "- Esto podría indicar que algunos estudiantes de alto rendimiento prefieren enfrentar la presión académica sin acudir a servicios de apoyo.\n",
    "\n",
    "## 2. ¿Diferencias entre géneros?\n",
    "\n",
    "- Se observó que el **GPA promedio en estudiantes masculinos y no binarios** es **ligeramente superior** al de las estudiantes femeninas.\n",
    "- Es importante analizar este resultado en contextos más amplios antes de llegar a conclusiones definitivas.\n",
    "\n",
    "## 3. Relación entre estrés y búsqueda de ayuda\n",
    "\n",
    "- Sorprendentemente, **los estudiantes con menor nivel de estrés son quienes más buscan ayuda**.\n",
    "- En contraste, quienes **reportan alto estrés tienden a no buscar ayuda**, lo que podría deberse a **falta de tiempo, estigma** o **desconocimiento** de los recursos disponibles.\n",
    "- Este patrón sugiere un posible **ciclo de rendimiento-exigencia** donde quienes tienen alto GPA también soportan más presión sin buscar apoyo.\n",
    "\n",
    "## 4. Insight clave para tomar acción institucional\n",
    "\n",
    "El cruce entre **nivel de estrés, búsqueda de ayuda y GPA** puede guiar a las instituciones a implementar estrategias de apoyo más accesibles, menos invasivas en tiempo, y que **no comprometan el rendimiento académico**. \n",
    "Además, podría enfocarse en **romper estigmas** y **promover una cultura preventiva del bienestar emocional**, especialmente en estudiantes de alto rendimiento."
   ]
  },
  {
   "cell_type": "markdown",
   "id": "02eb8c73",
   "metadata": {},
   "source": [
    "# Cierre personal\n",
    "\n",
    "Este proyecto me permitió aplicar de forma estructurada los conocimientos adquiridos sobre limpieza de datos, visualización exploratoria, análisis por grupo y estrategias de imputación. Fue desarrollado como parte de un programa intensivo enfocado en construir un portafolio profesional sólido en análisis de datos.\n",
    "\n",
    "Además de la práctica técnica, este análisis también integró habilidades de comunicación, interpretación de resultados y generación de insights accionables, los cuales son clave para la toma de decisiones basada en datos."
   ]
  }
 ],
 "metadata": {},
 "nbformat": 4,
 "nbformat_minor": 5
}
